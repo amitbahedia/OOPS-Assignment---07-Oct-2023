{
  "nbformat": 4,
  "nbformat_minor": 0,
  "metadata": {
    "colab": {
      "provenance": []
    },
    "kernelspec": {
      "name": "python3",
      "display_name": "Python 3"
    },
    "language_info": {
      "name": "python"
    }
  },
  "cells": [
    {
      "cell_type": "code",
      "execution_count": null,
      "metadata": {
        "id": "RV1tDE--rPoU"
      },
      "outputs": [],
      "source": [
        "## Problem 1: Bank Account Create a class representing a bank account with attributes like account number, account holder name, and balance. Implement methods to deposit and withdraw money from the account."
      ]
    },
    {
      "cell_type": "markdown",
      "source": [],
      "metadata": {
        "id": "rvUJD3DY2f0-"
      }
    },
    {
      "cell_type": "code",
      "source": [
        "class Bank_Account :\n",
        "\n",
        "  def __init__(self, account_no, acc_name, balance):\n",
        "    self.acc_no = account_no\n",
        "    self.account_name = acc_name\n",
        "    self.acc_balance = balance\n",
        "\n",
        "  def deposit(self, amount):\n",
        "    print(\"deposit money in my account\")\n",
        "\n",
        "  def withdraw(self, amount):\n",
        "    print(\"withdraw money from account\")"
      ],
      "metadata": {
        "id": "3Et4hayHrzqy"
      },
      "execution_count": null,
      "outputs": []
    },
    {
      "cell_type": "code",
      "source": [
        "obj1 = Bank_Account(1234,\"Amit\", 112345)\n",
        "obj1.acc_no\n"
      ],
      "metadata": {
        "colab": {
          "base_uri": "https://localhost:8080/"
        },
        "id": "bBMwQQFOs_mA",
        "outputId": "c8519990-7da3-49ff-f7db-8e5e740350e6"
      },
      "execution_count": null,
      "outputs": [
        {
          "output_type": "execute_result",
          "data": {
            "text/plain": [
              "1234"
            ]
          },
          "metadata": {},
          "execution_count": 3
        }
      ]
    },
    {
      "cell_type": "code",
      "source": [
        "obj1.deposit(123)"
      ],
      "metadata": {
        "colab": {
          "base_uri": "https://localhost:8080/"
        },
        "id": "W-5cBirmtTMI",
        "outputId": "8368c8e6-0dd8-4273-88b7-9ced10aa4063"
      },
      "execution_count": null,
      "outputs": [
        {
          "output_type": "stream",
          "name": "stdout",
          "text": [
            "deposit money in my account\n"
          ]
        }
      ]
    },
    {
      "cell_type": "code",
      "source": [
        "## Employee Management Create a class representing an employee with attributes like employee ID, name, and salary. Implement methods to calculate the yearly bonus and display employee details."
      ],
      "metadata": {
        "id": "D5C-_Hn3um1o"
      },
      "execution_count": null,
      "outputs": []
    },
    {
      "cell_type": "code",
      "source": [
        "class employee:\n",
        "\n",
        "  def __init__(self, emp_id, emp_name, emp_salary):\n",
        "    self.id = emp_id\n",
        "    self.name = emp_name\n",
        "    self.salary = emp_salary\n",
        "\n",
        "  def yearly_bonus(self):\n",
        "    bonus =  self.salary*0.1\n",
        "    return bonus\n",
        "\n",
        "\n",
        "  def emp_details(self):\n",
        "    print(\"Emp_ID is\",self.id )\n",
        "    print(\"Emp_name is\", self.name)\n",
        "    print(\"Emp_Salary is\", self.salary)\n",
        "    print(\"Emp bonus is \", self.salary*0.1)"
      ],
      "metadata": {
        "id": "KoKrOdeauucw"
      },
      "execution_count": null,
      "outputs": []
    },
    {
      "cell_type": "code",
      "source": [
        "emp1 = employee(1, \"Amit\", 965000)\n",
        "emp2 = employee(2,\"Nikshit\", 12000)"
      ],
      "metadata": {
        "id": "KPUaMOorwlgR"
      },
      "execution_count": null,
      "outputs": []
    },
    {
      "cell_type": "code",
      "source": [
        "emp1.emp_details()"
      ],
      "metadata": {
        "colab": {
          "base_uri": "https://localhost:8080/"
        },
        "id": "hzQnCABKxafa",
        "outputId": "c1ce48ec-b063-4d4e-84cb-e2d47db2f079"
      },
      "execution_count": null,
      "outputs": [
        {
          "output_type": "stream",
          "name": "stdout",
          "text": [
            "Emp_ID is 1\n",
            "Emp_name is Amit\n",
            "Emp_Salary is 965000\n",
            "Emp bonus is  96500.0\n"
          ]
        }
      ]
    },
    {
      "cell_type": "code",
      "source": [
        "emp2.yearly_bonus()"
      ],
      "metadata": {
        "colab": {
          "base_uri": "https://localhost:8080/"
        },
        "id": "dPkFb9gLxdU5",
        "outputId": "065fce6f-8b79-40cb-e5fb-d319596ff7ff"
      },
      "execution_count": null,
      "outputs": [
        {
          "output_type": "execute_result",
          "data": {
            "text/plain": [
              "1200.0"
            ]
          },
          "metadata": {},
          "execution_count": 9
        }
      ]
    },
    {
      "cell_type": "code",
      "source": [
        "# prompt: Problem 3: Vehicle Rental Create a class representing a vehicle rental system. Implement methods to rent a vehicle, return a vehicle, and display available vehicles.\n",
        "\n",
        "class vehicle_rental_system:\n",
        "\n",
        "  def __init__(self, Number_of_vehicles):\n",
        "    self.Number_of_vehicles = Number_of_vehicles\n",
        "    self.vehicles_on_rent = 0\n",
        "    self.no_of_returns = 0\n",
        "\n",
        "  def rent_vehicle(self, vehicles_on_rent):\n",
        "    self.vehicles_on_rent += vehicles_on_rent\n",
        "\n",
        "  def vehicle_return(self, no_of_returns):\n",
        "    self.no_of_returns += no_of_returns\n",
        "\n",
        "  def vehicle_avalaible(self):\n",
        "    Available_vehicles = self.Number_of_vehicles - self.vehicles_on_rent - self.no_of_returns\n",
        "    print(\"the number of available vehicles are\",Available_vehicles )\n",
        "\n",
        "obj2 = vehicle_rental_system(1200)\n",
        "obj2.rent_vehicle(200)\n",
        "obj2.vehicle_return(100)\n"
      ],
      "metadata": {
        "id": "6Dz_nUF-EbH_"
      },
      "execution_count": null,
      "outputs": []
    },
    {
      "cell_type": "markdown",
      "source": [
        "Problem 4: Library Catalog Create classes representing a library and a book. Implement methods to add books to the library, borrow books, and display available books."
      ],
      "metadata": {
        "id": "qhVq_n93GVRY"
      }
    },
    {
      "cell_type": "code",
      "source": [
        "class Library :\n",
        "\n",
        "  def __init__(self, Number_of_books):\n",
        "    self.Number_of_books = Number_of_books\n",
        "    self.Books_Added = 0\n",
        "    self.Books_Borrow = 0\n",
        "\n",
        "\n",
        "  def add_books(self, Books_Added):\n",
        "    self.Books_Added += Books_Added\n",
        "\n",
        "  def borrow_books(self, Books_Borrow):\n",
        "    self.Books_Borrow += Books_Borrow\n",
        "\n",
        "\n",
        "  def Available_books(self):\n",
        "    Available_Books = (self.Number_of_books + self.Books_Added) - self.Books_Borrow\n",
        "    print(\"the number of book aavailable in library are\", Available_Books)\n",
        "\n",
        "\n"
      ],
      "metadata": {
        "id": "970siUS8GUTI"
      },
      "execution_count": null,
      "outputs": []
    },
    {
      "cell_type": "code",
      "source": [
        "obj2 = Library(1300)"
      ],
      "metadata": {
        "id": "0-s5jt16DwiP"
      },
      "execution_count": null,
      "outputs": []
    },
    {
      "cell_type": "code",
      "source": [
        "obj2.add_books(300)\n",
        "obj2.borrow_books(200)\n",
        "obj2.Available_books()"
      ],
      "metadata": {
        "colab": {
          "base_uri": "https://localhost:8080/"
        },
        "id": "_f30voEhGXVn",
        "outputId": "e2df5beb-89ee-4ce5-c9a1-abae0f9c7d77"
      },
      "execution_count": null,
      "outputs": [
        {
          "output_type": "stream",
          "name": "stdout",
          "text": [
            "the number of book aavailable in library are 1400\n"
          ]
        }
      ]
    },
    {
      "cell_type": "code",
      "source": [],
      "metadata": {
        "id": "YMaXMh3SK6O4"
      },
      "execution_count": null,
      "outputs": []
    },
    {
      "cell_type": "markdown",
      "source": [
        "Product Inventory Create classes representing a product and an inventory system. Implement methods to add products to the inventory, update product quantity, and display available products."
      ],
      "metadata": {
        "id": "-JMc3lK9O90Z"
      }
    },
    {
      "cell_type": "code",
      "source": [
        "class product:\n",
        "\n",
        "  def __init__(self, No_of_Products):\n",
        "    self.No_of_Products = No_of_Products\n",
        "    self.Add_Products = 0\n",
        "\n",
        "  def products_added(self,Add_Products):\n",
        "    self.Add_Products += Add_Products\n",
        "\n",
        "  def Availabe_products(self):\n",
        "    Products_Available = self.No_of_Products + self.Add_Products\n",
        "    print(\"the number of products available are\", Products_Available)\n",
        "\n"
      ],
      "metadata": {
        "id": "hTfNm3qqO-cc"
      },
      "execution_count": null,
      "outputs": []
    },
    {
      "cell_type": "code",
      "source": [
        "obj5 = product(1200)"
      ],
      "metadata": {
        "id": "xKQH3pV7QGf6"
      },
      "execution_count": null,
      "outputs": []
    },
    {
      "cell_type": "code",
      "source": [
        "obj5.products_added(200)\n",
        "obj5.Availabe_products()"
      ],
      "metadata": {
        "colab": {
          "base_uri": "https://localhost:8080/"
        },
        "id": "AF5UBeGUQKLJ",
        "outputId": "34ecedbb-43d7-4ebe-aad5-530c28b2059b"
      },
      "execution_count": null,
      "outputs": [
        {
          "output_type": "stream",
          "name": "stdout",
          "text": [
            "the number of products available are 1400\n"
          ]
        }
      ]
    },
    {
      "cell_type": "code",
      "source": [],
      "metadata": {
        "id": "0OeTcdnFQPpp"
      },
      "execution_count": null,
      "outputs": []
    },
    {
      "cell_type": "markdown",
      "source": [
        "Shape Calculation Create a class representing a shape with attributes like length, width, and height. Implement methods to calculate the area and perimeter of the shape."
      ],
      "metadata": {
        "id": "SE2el-3Fgyws"
      }
    },
    {
      "cell_type": "code",
      "source": [
        "class shape :\n",
        "\n",
        "  def __init__(self, length, width, height):\n",
        "    self.length = length\n",
        "    self.width = width\n",
        "    self.height = height\n",
        "\n",
        "  def area(self):\n",
        "    Area_of_rectangle = self.length*self.width\n",
        "    print(\"the area of rectangle is\",Area_of_rectangle )\n",
        "    Area_of_Square = self.length * self.length\n",
        "    print(\"the area of square is\",  Area_of_Square)\n",
        "\n",
        "  def perimeter(self):\n",
        "    perimeter_of_rectangle = 2*(self.length + self.width)\n",
        "    print(\"the perimeter of rectangle is \", perimeter_of_rectangle)\n",
        "    perimeter_of_square = 4*(self.length)\n",
        "    print(\"the perimeter of square is \", perimeter_of_square)\n",
        "\n"
      ],
      "metadata": {
        "id": "zHCE5-lvgzU2"
      },
      "execution_count": null,
      "outputs": []
    },
    {
      "cell_type": "code",
      "source": [
        "obj_one = shape(12,23,45)\n",
        "obj_two = shape(2,3,4)"
      ],
      "metadata": {
        "id": "TDodov4ci0_A"
      },
      "execution_count": null,
      "outputs": []
    },
    {
      "cell_type": "code",
      "source": [
        "obj_one.area()"
      ],
      "metadata": {
        "colab": {
          "base_uri": "https://localhost:8080/"
        },
        "id": "xeeo_9VwjHZ_",
        "outputId": "2270fd0f-79ac-4579-db4c-d5e503065cdb"
      },
      "execution_count": null,
      "outputs": [
        {
          "output_type": "stream",
          "name": "stdout",
          "text": [
            "the area of rectangle is 276\n",
            "the area of square is 144\n"
          ]
        }
      ]
    },
    {
      "cell_type": "code",
      "source": [
        "obj_two.perimeter()"
      ],
      "metadata": {
        "colab": {
          "base_uri": "https://localhost:8080/"
        },
        "id": "qxfcF3vsjUPH",
        "outputId": "0e1b33cd-6c6b-46f4-a056-eb60b59c37ea"
      },
      "execution_count": null,
      "outputs": [
        {
          "output_type": "stream",
          "name": "stdout",
          "text": [
            "the perimeter of rectangle is  10\n",
            "the perimeter of square is  8\n"
          ]
        }
      ]
    },
    {
      "cell_type": "markdown",
      "source": [
        "Student Management Create a class representing a student with attributes like student ID, name, and grades. Implement methods to calculate the average grade and display student details."
      ],
      "metadata": {
        "id": "VhI7s6yVvHWA"
      }
    },
    {
      "cell_type": "code",
      "source": [
        "class student :\n",
        "\n",
        "  def __init__(self, stu_id, stu_name, stu_grade):\n",
        "\n",
        "    self.stu_id = stu_id\n",
        "    self.stu_name = stu_name\n",
        "    self.stu_grade = stu_grade\n",
        "\n",
        "\n",
        "  def grade_average(self):\n",
        "\n",
        "    if not self.stu_grade :\n",
        "      return 0.0\n",
        "    else:\n",
        "      return sum(self.stu_grade)/len(self.stu_grade)\n",
        "\n",
        "\n",
        "  def student_details(self):\n",
        "\n",
        "    print(f\"Student ID: {self.stu_id}\")\n",
        "    print(f\"Student Name: {self.stu_name}\")\n",
        "    print(f\"Average Grade : {self.grade_average()}\")\n",
        "\n",
        "\n"
      ],
      "metadata": {
        "id": "WfPvco9BvIB0"
      },
      "execution_count": null,
      "outputs": []
    },
    {
      "cell_type": "code",
      "source": [
        "obj_1 = student(1, \"Amit\", [23,45,67])\n",
        "obj_2 = student(2,\"Nikshit\", [34,45,67])"
      ],
      "metadata": {
        "id": "gwtBkP5I1x71"
      },
      "execution_count": null,
      "outputs": []
    },
    {
      "cell_type": "code",
      "source": [
        "obj_1.grade_average()"
      ],
      "metadata": {
        "colab": {
          "base_uri": "https://localhost:8080/"
        },
        "id": "3VqSWVB013lu",
        "outputId": "88ed8c24-7a73-487b-e670-f2b0ab5f78d4"
      },
      "execution_count": null,
      "outputs": [
        {
          "output_type": "execute_result",
          "data": {
            "text/plain": [
              "45.0"
            ]
          },
          "metadata": {},
          "execution_count": 23
        }
      ]
    },
    {
      "cell_type": "code",
      "source": [
        "obj_1.student_details()"
      ],
      "metadata": {
        "colab": {
          "base_uri": "https://localhost:8080/"
        },
        "id": "PXSfV3M22MHe",
        "outputId": "514bfbfd-4960-4af2-e846-e491101ec378"
      },
      "execution_count": null,
      "outputs": [
        {
          "output_type": "stream",
          "name": "stdout",
          "text": [
            "Student ID: 1\n",
            "Student Name: Amit\n",
            "Average Grade : 45.0\n"
          ]
        }
      ]
    },
    {
      "cell_type": "markdown",
      "source": [
        "Email Management Create a class representing an email with attributes like sender, recipient, and subject. Implement methods to send an email and display email details.\n"
      ],
      "metadata": {
        "id": "snC0myim2j6S"
      }
    },
    {
      "cell_type": "code",
      "source": [
        "class email:\n",
        "\n",
        "  def __init__(self, sender, recipient, subject):\n",
        "\n",
        "    self.sender = sender\n",
        "    self.recipient = recipient\n",
        "    self.subject = subject\n",
        "\n",
        "  def send_email(self):\n",
        "\n",
        "    print(\"this method will send the emails\")\n",
        "\n",
        "  def email_details(self):\n",
        "\n",
        "    print(f\"sender of the email: {self.sender}\")\n",
        "    print(f\"receipient of the email : {self.recipient }\")\n",
        "    print(f\"subject of the email : {self.subject}\")\n"
      ],
      "metadata": {
        "id": "3chFcfF82li2"
      },
      "execution_count": null,
      "outputs": []
    },
    {
      "cell_type": "code",
      "source": [
        "obj_email1 = email(\"a@gmail.com\", \"b@outlook.com\", \"Data Science\" )\n",
        "obj_email2 = email(\"c@gmail.com\", \"d@outlook.com\", \"Data Analytics\")"
      ],
      "metadata": {
        "id": "h70IHR5-45f2"
      },
      "execution_count": null,
      "outputs": []
    },
    {
      "cell_type": "code",
      "source": [
        "obj_email1.email_details()"
      ],
      "metadata": {
        "colab": {
          "base_uri": "https://localhost:8080/"
        },
        "id": "CVvKiK3a5zKm",
        "outputId": "b485f615-a44a-42b4-abf0-eba21510b719"
      },
      "execution_count": null,
      "outputs": [
        {
          "output_type": "stream",
          "name": "stdout",
          "text": [
            "sender of the email: a@gmail.com\n",
            "receipient of the email : b@outlook.com\n",
            "subject of the email : Data Science\n"
          ]
        }
      ]
    },
    {
      "cell_type": "code",
      "source": [
        "obj_email2.send_email()"
      ],
      "metadata": {
        "colab": {
          "base_uri": "https://localhost:8080/"
        },
        "id": "FyVP7q0v54Yg",
        "outputId": "6d101ef6-f6ef-4ab6-c1f7-29648f11b797"
      },
      "execution_count": null,
      "outputs": [
        {
          "output_type": "stream",
          "name": "stdout",
          "text": [
            "this method will send the emails\n"
          ]
        }
      ]
    },
    {
      "cell_type": "code",
      "source": [
        "# # ToDo List Create a class representing a ToDo list with attributes like tasks and due dates. Implement methods to add tasks, mark tasks as completed, and display pending tasks.\n",
        "\n",
        "class TodoList:\n",
        "\n",
        "  def __init__(self):\n",
        "    self.tasks = []\n",
        "    self.due_dates = []\n",
        "\n",
        "  def add_task(self, task, due_date):\n",
        "    self.tasks.append(task)\n",
        "    self.due_dates.append(due_date)\n",
        "\n",
        "  def mark_as_completed(self, index):\n",
        "    self.tasks[index] = \"Completed\"\n",
        "\n",
        "  def display_pending_tasks(self):\n",
        "    for task, due_date in zip(self.tasks, self.due_dates):\n",
        "      if task != \"Completed\":\n",
        "        print(f\"Task: {task}, Due date: {due_date}\")\n",
        "\n",
        "todo_list = TodoList()\n",
        "\n",
        "todo_list.add_task(\"Write blog post\", \"2023-03-08\")\n",
        "todo_list.add_task(\"Read book\", \"2023-03-09\")\n",
        "todo_list.add_task(\"Attend meeting\", \"2023-03-10\")\n",
        "\n",
        "todo_list.mark_as_completed(1)\n",
        "\n",
        "todo_list.display_pending_tasks()\n"
      ],
      "metadata": {
        "colab": {
          "base_uri": "https://localhost:8080/"
        },
        "id": "L6l6XSCfY1Nz",
        "outputId": "4b427ba5-fd64-4d01-d1e3-75cbdff9656b"
      },
      "execution_count": null,
      "outputs": [
        {
          "output_type": "stream",
          "name": "stdout",
          "text": [
            "Task: Write blog post, Due date: 2023-03-08\n",
            "Task: Attend meeting, Due date: 2023-03-10\n"
          ]
        }
      ]
    },
    {
      "cell_type": "code",
      "source": [
        "todo_list.mark_as_completed(1)"
      ],
      "metadata": {
        "id": "MZsv97OsZ6Dp"
      },
      "execution_count": null,
      "outputs": []
    },
    {
      "cell_type": "code",
      "source": [
        "todo_list.display_pending_tasks()"
      ],
      "metadata": {
        "colab": {
          "base_uri": "https://localhost:8080/"
        },
        "id": "5oLmekjQaIOx",
        "outputId": "bba34be3-f631-49f8-cd93-ba189b6de17e"
      },
      "execution_count": null,
      "outputs": [
        {
          "output_type": "stream",
          "name": "stdout",
          "text": [
            "Task: Write blog post, Due date: 2023-03-08\n",
            "Task: Attend meeting, Due date: 2023-03-10\n"
          ]
        }
      ]
    },
    {
      "cell_type": "code",
      "source": [],
      "metadata": {
        "id": "jygfamKBaSDV"
      },
      "execution_count": null,
      "outputs": []
    },
    {
      "cell_type": "markdown",
      "source": [
        "Social Media Profile Create a class representing a social media profile with attributes like username and posts. Implement methods to add posts, display posts, and search for posts by keyword."
      ],
      "metadata": {
        "id": "Fjz-BF91apqz"
      }
    },
    {
      "cell_type": "code",
      "source": [
        "class SocialMediaProfile :\n",
        "\n",
        "  def __init__(self, username):\n",
        "    self.username = username\n",
        "    self.posts = []\n",
        "\n",
        "\n",
        "  def add_post(self, post):\n",
        "    self.posts.append(post)\n",
        "\n",
        "  def display_post(self):\n",
        "    for i in self.posts:\n",
        "      print(i)\n",
        "\n",
        "  def search_post(self, keyword):\n",
        "    matching_posts = [i for i in self.posts if keyword in i]\n",
        "    return matching_posts  # Return matching posts\n",
        "    if not matching_posts:\n",
        "      print(\"Post having this keyword is not available\")\n",
        "\n"
      ],
      "metadata": {
        "id": "9Bcy9HMnavYB"
      },
      "execution_count": null,
      "outputs": []
    },
    {
      "cell_type": "code",
      "source": [
        "Obj_one = SocialMediaProfile(\"abc\")\n",
        "Obj_two = SocialMediaProfile(\"pqr\")"
      ],
      "metadata": {
        "id": "97_IUZ40gych"
      },
      "execution_count": null,
      "outputs": []
    },
    {
      "cell_type": "code",
      "source": [
        "Obj_one.add_post(\"Merry Christmas\")\n",
        "Obj_two.add_post(\"Happy new year\")"
      ],
      "metadata": {
        "id": "415o-pGNhKqk"
      },
      "execution_count": null,
      "outputs": []
    },
    {
      "cell_type": "code",
      "source": [
        "Obj_one.display_post()"
      ],
      "metadata": {
        "colab": {
          "base_uri": "https://localhost:8080/"
        },
        "id": "0GB8A7RzhSIE",
        "outputId": "86dd8056-c6d1-4f41-bb48-06561ad71c85"
      },
      "execution_count": null,
      "outputs": [
        {
          "output_type": "stream",
          "name": "stdout",
          "text": [
            "Merry Christmas\n"
          ]
        }
      ]
    },
    {
      "cell_type": "code",
      "source": [
        "Obj_one.search_post(\"Merry\")"
      ],
      "metadata": {
        "colab": {
          "base_uri": "https://localhost:8080/"
        },
        "id": "IfS4NrQQhWpj",
        "outputId": "fc7cdf88-20dc-4eca-db39-669e88b88339"
      },
      "execution_count": null,
      "outputs": [
        {
          "output_type": "execute_result",
          "data": {
            "text/plain": [
              "['Merry Christmas']"
            ]
          },
          "metadata": {},
          "execution_count": 54
        }
      ]
    },
    {
      "cell_type": "code",
      "source": [
        "Obj_two.display_post()"
      ],
      "metadata": {
        "id": "t6XylgbchkXU",
        "colab": {
          "base_uri": "https://localhost:8080/"
        },
        "outputId": "270b598d-6c37-4bc4-b9cd-917e16b739d0"
      },
      "execution_count": null,
      "outputs": [
        {
          "output_type": "stream",
          "name": "stdout",
          "text": [
            "Happy new year\n"
          ]
        }
      ]
    },
    {
      "cell_type": "code",
      "source": [
        "Obj_two.search_post(\"amit\")"
      ],
      "metadata": {
        "colab": {
          "base_uri": "https://localhost:8080/"
        },
        "id": "z-EqUCoYwpJn",
        "outputId": "3ad2929b-74e1-4d83-d44c-6c52c2c581b0"
      },
      "execution_count": null,
      "outputs": [
        {
          "output_type": "execute_result",
          "data": {
            "text/plain": [
              "[]"
            ]
          },
          "metadata": {},
          "execution_count": 57
        }
      ]
    },
    {
      "cell_type": "code",
      "source": [],
      "metadata": {
        "id": "o5NR2SGlwtLx"
      },
      "execution_count": null,
      "outputs": []
    }
  ]
}